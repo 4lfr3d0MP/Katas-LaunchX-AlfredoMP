{
 "cells": [
  {
   "cell_type": "markdown",
   "metadata": {},
   "source": [
    "## Ejercicios : if , else, elif\n",
    "1- Si un asterioide se dirige a la tierra a mas de 25 Km/s imprimir una advertencia."
   ]
  },
  {
   "cell_type": "code",
   "execution_count": 1,
   "metadata": {},
   "outputs": [
    {
     "name": "stdout",
     "output_type": "stream",
     "text": [
      "AVDERTENCIA, UN ASTERIODE SE DIRIGE A LA TIERRA!!!!!! \n",
      "Por favor guarden la calma y escuchen indicaciones de su gobierno en turno.\n"
     ]
    }
   ],
   "source": [
    "velocidadAsterioide = 49;\n",
    "Limite = 25;\n",
    "\n",
    "if(velocidadAsterioide >= Limite):\n",
    "    print(\"AVDERTENCIA, UN ASTERIODE SE DIRIGE A LA TIERRA!!!!!! \")\n",
    "    print( \"Por favor guarden la calma y escuchen indicaciones de su gobierno en turno.\")\n",
    "else:\n",
    "    print(\"Todo marcha en orden. \")"
   ]
  },
  {
   "cell_type": "markdown",
   "metadata": {},
   "source": [
    "2- Si un asteroide entra en la atmósfera de la Tierra a una velocidad mayor o igual a 20 km/s, a veces produce un rayo de luz que se puede ver desde la Tierra.\n",
    "\n",
    "!Hay un asteroide que se dirige a la tierra a 19 km/s¡"
   ]
  },
  {
   "cell_type": "code",
   "execution_count": 2,
   "metadata": {},
   "outputs": [
    {
     "name": "stdout",
     "output_type": "stream",
     "text": [
      "No miren arriba, no hay nada\n"
     ]
    }
   ],
   "source": [
    "velocidadAsterioide = 19;\n",
    "Limite=20;\n",
    "\n",
    "if(velocidadAsterioide >Limite):\n",
    "    print(\"Miren arriba hay un rayo de luz de un asteroide\")\n",
    "elif velocidadAsterioide == Limite:\n",
    "    print(\" Miren arriba hay un rayo de luz de un asteroide \")\n",
    "else:\n",
    "    print(\"No miren arriba, no hay nada\")\n",
    "\n",
    "\n"
   ]
  },
  {
   "cell_type": "markdown",
   "metadata": {},
   "source": [
    "## Parte 2: Uso de operadores \"and\" y \"or\" "
   ]
  },
  {
   "cell_type": "markdown",
   "metadata": {},
   "source": [
    "*Los asteroides de menos de 25 metros en su dimensión más grande probablemente se quemarán a medida que entren en la atmósfera de la Tierra.\n",
    "\n",
    "*Si una pieza de un asteroide que es más grande que 25 metros pero más pequeña que 1000 metros golpeara la Tierra, causaría mucho daño.\n",
    "\n",
    "*La velocidad del asteroide varía en función de lo cerca que esté del sol, y cualquier velocidad superior a 25 kilómetros por segundo (km/s) merece una advertencia.\n",
    "\n",
    "*Si un asteroide entra en la atmósfera de la Tierra a una velocidad mayor o igual a 20 km/s, a veces produce un rayo de luz que se puede ver desde la Tierra.\n"
   ]
  },
  {
   "cell_type": "code",
   "execution_count": 3,
   "metadata": {},
   "outputs": [
    {
     "name": "stdout",
     "output_type": "stream",
     "text": [
      "!!ADVERTENCIA, un asteriode viene hacia la tierra\n"
     ]
    }
   ],
   "source": [
    "velocidadAsterioide = 35;\n",
    "tamanio= 30;\n",
    "\n",
    "\n",
    "\n",
    "if(velocidadAsterioide >25 and tamanio > 25):\n",
    "    print(\"!!ADVERTENCIA, un asteriode viene hacia la tierra\")\n",
    "elif velocidadAsterioide >=20:\n",
    "    print(\" Miren arriba hay un rayo de luz de un asteroide \")\n",
    "elif tamanio >25 and tamanio <1000:\n",
    "    print(\"Los daños del asteriode seran catastroficos\")\n",
    "else:\n",
    "    print(\"No pasa nada oiga.\")"
   ]
  }
 ],
 "metadata": {
  "interpreter": {
   "hash": "4ce0e62306dd6a5716965d4519ada776f947e6dfc145b604b11307c10277ef29"
  },
  "kernelspec": {
   "display_name": "Python 3.10.0 64-bit",
   "language": "python",
   "name": "python3"
  },
  "language_info": {
   "codemirror_mode": {
    "name": "ipython",
    "version": 3
   },
   "file_extension": ".py",
   "mimetype": "text/x-python",
   "name": "python",
   "nbconvert_exporter": "python",
   "pygments_lexer": "ipython3",
   "version": "3.10.0"
  },
  "orig_nbformat": 4
 },
 "nbformat": 4,
 "nbformat_minor": 2
}
