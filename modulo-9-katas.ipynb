{
 "cells": [
  {
   "cell_type": "markdown",
   "metadata": {},
   "source": [
    "### Ejercicio 1: Trabajar con argumentos en funciones\n",
    "Comienza por crear una función que necesite tres lecturas de combustible y devuelva un informe:"
   ]
  },
  {
   "cell_type": "code",
   "execution_count": null,
   "metadata": {},
   "outputs": [],
   "source": [
    "def lectura(Tanque1, Tanque2, Tanque3):\n",
    "    Resultado= (Tanque1+Tanque2+Tanque3)/3\n",
    "    return f\"\"\"Lectura total de los tanques: {Resultado} Lts\n",
    "    Tanque 1: {Tanque1} Lts\n",
    "    Tanque 2: {Tanque2} Lts\n",
    "    Tanque 3: {Tanque3} Lts\n",
    "    \"\"\"\n",
    "\n"
   ]
  },
  {
   "cell_type": "markdown",
   "metadata": {},
   "source": [
    "ahora que hemos definido la función de informes, vamos a comprobarlo. Para esta misión, los tanques no están llenos:"
   ]
  },
  {
   "cell_type": "code",
   "execution_count": null,
   "metadata": {},
   "outputs": [],
   "source": [
    "print(lectura(80,70,85))"
   ]
  },
  {
   "cell_type": "markdown",
   "metadata": {},
   "source": [
    "\n",
    "\n",
    "En lugar de simplemente crear el informe, la función también está calculando el promedio. Mejora la legibilidad extrayendo el cálculo promedio de la función en una nueva función para que el promedio se pueda hacer de forma independiente"
   ]
  },
  {
   "cell_type": "code",
   "execution_count": null,
   "metadata": {},
   "outputs": [],
   "source": [
    "def prom(Conjunto):\n",
    "    Suma= sum(Conjunto)\n",
    "    return Suma/3\n",
    "\n"
   ]
  },
  {
   "cell_type": "markdown",
   "metadata": {},
   "source": [
    "Ahora actualiza la función de informes para llamando a la nueva función del promedio:"
   ]
  },
  {
   "cell_type": "code",
   "execution_count": null,
   "metadata": {},
   "outputs": [],
   "source": [
    "def lectura(Tanque1, Tanque2, Tanque3):\n",
    "    return f\"\"\"Lectura total de los tanques: {prom([Tanque1,Tanque2,Tanque3])} Lts\n",
    "    Tanque 1: {Tanque1} Lts\n",
    "    Tanque 2: {Tanque2} Lts\n",
    "    Tanque 3: {Tanque3} Lts\n",
    "    \"\"\""
   ]
  },
  {
   "cell_type": "markdown",
   "metadata": {},
   "source": [
    "llamando a la funcion actualizada"
   ]
  },
  {
   "cell_type": "code",
   "execution_count": null,
   "metadata": {},
   "outputs": [],
   "source": [
    "lectura(80,70,85)"
   ]
  },
  {
   "cell_type": "markdown",
   "metadata": {},
   "source": [
    "### Ejercicio 2: Trabajo con argumentos de palabra clave\n",
    "#### Ejercicio : Trabajar con argumentos de palabras clave en funciones\n",
    "Comienza por crear una función que creará un informe preciso de la misión:\n"
   ]
  },
  {
   "cell_type": "code",
   "execution_count": null,
   "metadata": {},
   "outputs": [],
   "source": [
    "def Reporte(Hora_pre,Tiempo_vuel,Destino,T_ext,T_inter):\n",
    "    return f\"\"\" REPORTE COMPLETO: \n",
    "    Hora de pre-lanzamiento: {Hora_pre} Hrs\n",
    "    Tiempo de vuelo: {Tiempo_vuel} Minutos\n",
    "    Destino: {Destino}\n",
    "    Tanque externo: {T_ext} Lts \n",
    "    Tanque interno: {T_inter} Lts\n",
    "    \"\"\"\n",
    "\n",
    "print(Reporte(\"7:00\",24,\"Marte\",500,50))"
   ]
  },
  {
   "cell_type": "markdown",
   "metadata": {},
   "source": [
    "Hazlo más flexible permitiendo cualquier número de pasos basados en el tiempo y cualquier número de tanques. En lugar de usar *args y **kwargs, aprovecha el hecho de que puedes usar cualquier nombre que desees. Asegurate que la función sea más legible mediante el uso de nombres de variables que están asociados con las entradas, como *minutes y **fuel_reservoirs:"
   ]
  },
  {
   "cell_type": "code",
   "execution_count": null,
   "metadata": {},
   "outputs": [],
   "source": [
    "def Reporte(Tiempo_vuel,Destino,*Horas,**Tanques):\n",
    "\n",
    "    Total_Horas= sum(Horas)\n",
    "    Total_Combus= sum(Tanques.values())\n",
    "    return f\"\"\" REPORTE COMPLETO: \n",
    "    Tiempo de vuelo: {Tiempo_vuel} Minutos\n",
    "    Destino: {Destino}\n",
    "    Total de tiempo en el viaje: {Total_Horas} minutos\n",
    "    Total que hay en los tanques: {sum(Tanques.values())} Lts\n",
    "    \n",
    "    \"\"\"\n",
    "\n",
    "print(Reporte(23,\"Marte\",24,25,26,principal=200,Secundario=20))"
   ]
  },
  {
   "cell_type": "markdown",
   "metadata": {},
   "source": [
    "Debido a que el combustible que queda en los tanques es específico de cada tanque, actualiza la función para usar el nombre de cada tanque en el informe:"
   ]
  },
  {
   "cell_type": "code",
   "execution_count": null,
   "metadata": {},
   "outputs": [],
   "source": [
    "def Reporte(Tiempo_vuel,Destino,*Horas,**Tanques):\n",
    "\n",
    "    Total_Horas= sum(Horas)\n",
    "    Reporte_final=f\"\"\" REPORTE COMPLETO: \n",
    "    Tiempo de vuelo: {Tiempo_vuel} Minutos\n",
    "    Destino: {Destino}\n",
    "    Total de tiempo en el viaje: {Total_Horas} minutos    \n",
    "    \"\"\"\n",
    "    for titulo, nombre in Tanques.items():\n",
    "        Reporte_final += f\"Tanque {titulo}: {nombre} Lts \\t\"\n",
    "    return Reporte_final\n",
    "\n",
    "print(Reporte(23,\"Marte\",24,25,26,principal=200,Secundario=20))"
   ]
  },
  {
   "cell_type": "markdown",
   "metadata": {},
   "source": []
  }
 ],
 "metadata": {
  "interpreter": {
   "hash": "4ce0e62306dd6a5716965d4519ada776f947e6dfc145b604b11307c10277ef29"
  },
  "kernelspec": {
   "display_name": "Python 3.10.0 64-bit",
   "language": "python",
   "name": "python3"
  },
  "language_info": {
   "codemirror_mode": {
    "name": "ipython",
    "version": 3
   },
   "file_extension": ".py",
   "mimetype": "text/x-python",
   "name": "python",
   "nbconvert_exporter": "python",
   "pygments_lexer": "ipython3",
   "version": "3.10.0"
  },
  "orig_nbformat": 4
 },
 "nbformat": 4,
 "nbformat_minor": 2
}
