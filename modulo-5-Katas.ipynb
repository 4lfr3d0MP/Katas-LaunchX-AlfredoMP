{
 "cells": [
  {
   "cell_type": "markdown",
   "metadata": {},
   "source": [
    "### Ejercicio 1 , utilizar operadores aritmeticos.\n",
    "Exploremos cómo podemos crear un programa que pueda calcular la distancia entre dos planetas. Comenzaremos usando dos distancias de planetas: Tierra (149.597.870 km) y Júpiter (778.547.200 km)."
   ]
  },
  {
   "cell_type": "code",
   "execution_count": 1,
   "metadata": {},
   "outputs": [],
   "source": [
    "\n",
    "# Crear variables para almacenar las dos distancias\n",
    "D_tierra= 149597870\n",
    "D_Jupiter=778547200\n"
   ]
  },
  {
   "cell_type": "code",
   "execution_count": 2,
   "metadata": {},
   "outputs": [
    {
     "name": "stdout",
     "output_type": "stream",
     "text": [
      "628949330 390577534\n"
     ]
    }
   ],
   "source": [
    "#Con los valores obtenidos, es el momento de añadir el código para realizar la operación. \n",
    "# Restarás el primer planeta del segundo para determinar la distancia en kilómetros.\n",
    "#  A continuación, puedes convertir la distancia del kilómetro en millas multiplicándola por 0.621.\n",
    "Dista= abs(D_tierra-D_Jupiter);\n",
    "Dista_Millas= round(Dista*0.621);\n",
    "print(Dista,Dista_Millas)\n"
   ]
  },
  {
   "cell_type": "markdown",
   "metadata": {},
   "source": [
    "### Ejercicio 2: convierte cadenas en números y usa valores absolutos\n",
    "\n",
    "Para crear nuestra aplicación, queremos leer la distancia del sol para dos planetas, y luego mostrar la distancia entre los planetas. Haremos esto usando input para leer los valores, int para convertir a entero y luego abs para convertir el resultado en su valor absoluto."
   ]
  },
  {
   "cell_type": "code",
   "execution_count": 3,
   "metadata": {},
   "outputs": [],
   "source": [
    "D_sol1=input(\"Escribe el valor de la distancia del sol a 1 planeta: \")\n",
    "D_sol2=input(\"Escribe el valor de la distancia del sol a 1 planeta: \")\n"
   ]
  },
  {
   "cell_type": "markdown",
   "metadata": {},
   "source": [
    "Debido a que input devuelve valores de cadena, necesitamos convertirlos en números. Para nuestro ejemplo, usaremos int"
   ]
  },
  {
   "cell_type": "code",
   "execution_count": 4,
   "metadata": {},
   "outputs": [],
   "source": [
    "Cambio1=int(D_sol1)\n",
    "Cambio2=int(D_sol2)"
   ]
  },
  {
   "cell_type": "markdown",
   "metadata": {},
   "source": [
    "##### Realizar el cálculo y convertir a valor absoluto\n",
    "Con los valores almacenados como números, ahora puedes agregar el código para realizar el cálculo, restando el primer planeta del segundo. Debido a que el segundo planeta podría ser un número mayor, usarás abs para convertirlo a un valor absoluto. También agregarás el código para mostrar el resultado en millas multiplicando la distancia del kilómetro por 0.621"
   ]
  },
  {
   "cell_type": "code",
   "execution_count": 5,
   "metadata": {},
   "outputs": [
    {
     "name": "stdout",
     "output_type": "stream",
     "text": [
      "Tu distancia en km es: \n",
      "10000\n",
      "Tu distancia en millas es: \n",
      "6210.0\n"
     ]
    }
   ],
   "source": [
    "Calc= abs(Cambio1-Cambio2)\n",
    "print(\"Tu distancia en km es: \")\n",
    "print(Calc)\n",
    "Millas_Cal= Calc*0.621\n",
    "print(\"Tu distancia en millas es: \")\n",
    "print(Millas_Cal)"
   ]
  }
 ],
 "metadata": {
  "interpreter": {
   "hash": "4ce0e62306dd6a5716965d4519ada776f947e6dfc145b604b11307c10277ef29"
  },
  "kernelspec": {
   "display_name": "Python 3.10.0 64-bit",
   "language": "python",
   "name": "python3"
  },
  "language_info": {
   "codemirror_mode": {
    "name": "ipython",
    "version": 3
   },
   "file_extension": ".py",
   "mimetype": "text/x-python",
   "name": "python",
   "nbconvert_exporter": "python",
   "pygments_lexer": "ipython3",
   "version": "3.10.0"
  },
  "orig_nbformat": 4
 },
 "nbformat": 4,
 "nbformat_minor": 2
}
